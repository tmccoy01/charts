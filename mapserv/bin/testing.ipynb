{
 "cells": [
  {
   "cell_type": "markdown",
   "metadata": {},
   "source": [
    "#### Import libraries"
   ]
  },
  {
   "cell_type": "code",
   "execution_count": 1,
   "metadata": {},
   "outputs": [],
   "source": [
    "from osgeo import gdal\n",
    "from pct2rgb import pct2rgb"
   ]
  },
  {
   "cell_type": "markdown",
   "metadata": {},
   "source": [
    "#### Load in the .tif file"
   ]
  },
  {
   "cell_type": "code",
   "execution_count": 5,
   "metadata": {},
   "outputs": [],
   "source": [
    "file_path = \"/Users/tannermccoy/Development/Work/charts/mapserv/charts/sec/20231130/Anchorage.tif\"\n",
    "tmp_file = \"/Users/tannermccoy/Development/Work/charts/mapserv/charts/sec/20231130/tmp.tif\"\n",
    "data = gdal.Open(file_path)\n"
   ]
  },
  {
   "cell_type": "markdown",
   "metadata": {},
   "source": [
    "#### Get information about the .tif file"
   ]
  },
  {
   "cell_type": "code",
   "execution_count": 10,
   "metadata": {},
   "outputs": [],
   "source": [
    "wkt = data.GetProjection()\n",
    "sr = gdal.osr.SpatialReference()\n",
    "sr.ImportFromWkt(wkt)\n",
    "p4 = sr.ExportToProj4()\n",
    "srout = gdal.osr.SpatialReference()\n",
    "srout.ImportFromEPSG(4326)\n",
    "reproj = gdal.osr.CoordinateTransformation(sr, srout)\n",
    "invreproj = gdal.osr.CoordinateTransformation(srout, sr)"
   ]
  },
  {
   "cell_type": "code",
   "execution_count": 14,
   "metadata": {},
   "outputs": [],
   "source": [
    "rotated = 0\n",
    "width, height = data.RasterXSize, data.RasterYSize # int\n",
    "gt = data.GetGeoTransform() # tuple\n",
    "minx = gt[0]\n",
    "miny = gt[3] + width*gt[4] + height*gt[5]\n",
    "maxx = gt[0] + width*gt[1] + height*gt[2]\n",
    "maxy = gt[3]\n",
    "\n",
    "if minx > maxx:\n",
    "    swap = maxx\n",
    "    maxx = minx\n",
    "    minx = swap\n",
    "\n",
    "if miny > maxy:\n",
    "    swap = maxy\n",
    "    maxy = miny\n",
    "    miny = swap\n",
    "\n",
    "if (gt[2] != 0) or (gt[4] != 0):\n",
    "    rotated = 1"
   ]
  },
  {
   "cell_type": "code",
   "execution_count": 6,
   "metadata": {},
   "outputs": [
    {
     "name": "stdout",
     "output_type": "stream",
     "text": [
      "0...10...20...30...40...50...60...70...80...90...100 - done.\n"
     ]
    },
    {
     "data": {
      "text/plain": [
       "<osgeo.gdal.Dataset; proxy of <Swig Object of type 'GDALDatasetShadow *' at 0x10f417f00> >"
      ]
     },
     "execution_count": 6,
     "metadata": {},
     "output_type": "execute_result"
    }
   ],
   "source": [
    "rastercount = data.RasterCount\n",
    "pct2rgb(src_filename=file_path, dst_filename=tmp_file)\n"
   ]
  },
  {
   "cell_type": "code",
   "execution_count": 9,
   "metadata": {},
   "outputs": [
    {
     "data": {
      "text/plain": [
       "<osgeo.gdal.Dataset; proxy of <Swig Object of type 'GDALDatasetShadow *' at 0x12526f9c0> >"
      ]
     },
     "execution_count": 9,
     "metadata": {},
     "output_type": "execute_result"
    }
   ],
   "source": [
    "gdal.Warp(destNameOrDestDS=tmp_file, srcDSOrSrcDSTab=file_path, dstAlpha=True)"
   ]
  },
  {
   "cell_type": "code",
   "execution_count": null,
   "metadata": {},
   "outputs": [],
   "source": [
    "def inv_gt(gt_in) -> list:\n",
    "    det = gt_in[1] * gt_in[5] - gt_in[2] * gt_in[4]\n",
    "\n",
    "    if abs(det) < 0.000000000000001:\n",
    "        return None\n",
    "    \n",
    "    inv_det = 1.0 / det\n",
    "\n",
    "    gt_out = []\n",
    "    gt_out.append((gt_in[2] * gt_in[3] - gt_in[0] * gt_in[5]) * inv_det)\n",
    "    gt_out.append(gt_in[5] * inv_det)\n",
    "    gt_out.append(-gt_in[2] * inv_det)\n",
    "    gt_out.append((-gt_in[1] * gt_in[3] - gt_in[0] * gt_in[4]) * inv_det)\n",
    "    gt_out.append(-gt_in[4] * inv_det)\n",
    "    gt_out.append(gt_in[1] * inv_det)\n",
    "\n",
    "    return gt_out"
   ]
  },
  {
   "cell_type": "markdown",
   "metadata": {},
   "source": [
    "#### Check for crops"
   ]
  },
  {
   "cell_type": "code",
   "execution_count": null,
   "metadata": {},
   "outputs": [],
   "source": [
    "igt = inv_gt(gt)\n",
    "nocrop = 0\n",
    "refcount = 0"
   ]
  }
 ],
 "metadata": {
  "kernelspec": {
   "display_name": "gdal",
   "language": "python",
   "name": "python3"
  },
  "language_info": {
   "codemirror_mode": {
    "name": "ipython",
    "version": 3
   },
   "file_extension": ".py",
   "mimetype": "text/x-python",
   "name": "python",
   "nbconvert_exporter": "python",
   "pygments_lexer": "ipython3",
   "version": "3.12.1"
  }
 },
 "nbformat": 4,
 "nbformat_minor": 2
}
